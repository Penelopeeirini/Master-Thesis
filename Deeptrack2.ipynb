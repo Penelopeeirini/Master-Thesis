{
  "nbformat": 4,
  "nbformat_minor": 0,
  "metadata": {
    "colab": {
      "provenance": [],
      "authorship_tag": "ABX9TyNyi3w/XhNNZQYui/a8IqnG",
      "include_colab_link": true
    },
    "kernelspec": {
      "name": "python3",
      "display_name": "Python 3"
    },
    "language_info": {
      "name": "python"
    }
  },
  "cells": [
    {
      "cell_type": "markdown",
      "metadata": {
        "id": "view-in-github",
        "colab_type": "text"
      },
      "source": [
        "<a href=\"https://colab.research.google.com/github/Penelopeeirini/Master-Thesis/blob/main/Deeptrack2.ipynb\" target=\"_parent\"><img src=\"https://colab.research.google.com/assets/colab-badge.svg\" alt=\"Open In Colab\"/></a>"
      ]
    },
    {
      "cell_type": "code",
      "execution_count": null,
      "metadata": {
        "id": "WrsR2Di7IMXn"
      },
      "outputs": [],
      "source": [
        "!pip install deeptrack\n",
        "import deeptrack as dt\n",
        "import numpy as np"
      ]
    },
    {
      "cell_type": "code",
      "source": [
        "import matplotlib.pyplot as plt"
      ],
      "metadata": {
        "id": "Rl7iixLBK8Ww"
      },
      "execution_count": 4,
      "outputs": []
    },
    {
      "cell_type": "code",
      "source": [
        "IMAGE_SIZE=51\n",
        "particle = dt.PointParticle(\n",
        "position=lambda:np.random.uniform(\n",
        "IMAGE_SIZE / 2 - 5,\n",
        "IMAGE_SIZE / 2 + 5,\n",
        "size=2,\n",
        "),\n",
        ")"
      ],
      "metadata": {
        "id": "R6DP78pjLR4A"
      },
      "execution_count": 6,
      "outputs": []
    },
    {
      "cell_type": "code",
      "source": [
        "optics = dt.Fluorescence(\n",
        "output_region=(0, 0, IMAGE_SIZE, IMAGE_SIZE),)"
      ],
      "metadata": {
        "id": "YJefCZPJIVNI"
      },
      "execution_count": 8,
      "outputs": []
    },
    {
      "cell_type": "markdown",
      "source": [
        "TRAIN EASIER THE NEURAL NETWORK"
      ],
      "metadata": {
        "id": "JA3zNHHvOkk6"
      }
    },
    {
      "cell_type": "code",
      "source": [
        "normalization = dt.NormalizeMinMax(0, 1)"
      ],
      "metadata": {
        "id": "8J_DXpQ0N652"
      },
      "execution_count": 9,
      "outputs": []
    },
    {
      "cell_type": "markdown",
      "source": [
        "SIMULATION PIPELINE"
      ],
      "metadata": {
        "id": "sieZxECtOS_y"
      }
    },
    {
      "cell_type": "code",
      "source": [
        "data_simulation = optics(particle) >> normalization\n",
        "data = np.zeros((1000, IMAGE_SIZE, IMAGE_SIZE, 1))\n",
        "ground_truth = np.zeros((1000, 2))"
      ],
      "metadata": {
        "id": "HbbclnyCORWG"
      },
      "execution_count": 12,
      "outputs": []
    },
    {
      "cell_type": "code",
      "source": [
        "for i in range(1000):\n",
        "  data_simulation.update()\n",
        "  data[i] = data_simulation()\n",
        "  ground_truth[i] = particle.position()\n"
      ],
      "metadata": {
        "id": "KT949PlqOZqL"
      },
      "execution_count": 13,
      "outputs": []
    },
    {
      "cell_type": "markdown",
      "source": [
        "PARTICLE PLOTS\n"
      ],
      "metadata": {
        "id": "DF6C_UJpXfXe"
      }
    },
    {
      "cell_type": "code",
      "source": [
        "plt.figure(figsize=(10, 4))\n",
        "for i in range(10):\n",
        "  plt.subplot(2, 5, i + 1)\n",
        "  plt.imshow(data[i, ..., 0], cmap=\"gray\")\n",
        "  plt.scatter(ground_truth[i, 1], ground_truth[i, 0], c=\"r\")\n",
        "  plt.axis(\"off\")\n",
        "  plt.tight_layout()\n",
        "plt.show()"
      ],
      "metadata": {
        "colab": {
          "base_uri": "https://localhost:8080/",
          "height": 407
        },
        "id": "VfTrjH8GXhwF",
        "outputId": "f465c605-fa6e-4ff9-baec-c61125bd049d"
      },
      "execution_count": 16,
      "outputs": [
        {
          "output_type": "display_data",
          "data": {
            "text/plain": [
              "<Figure size 1000x400 with 10 Axes>"
            ],
            "image/png": "[encoded data removed]"
          },
          "metadata": {}
        }
      ]
    },
    {
      "cell_type": "code",
      "source": [],
      "metadata": {
        "id": "p-q8XUbVX0Jq"
      },
      "execution_count": null,
      "outputs": []
    },
    {
      "cell_type": "code",
      "source": [],
      "metadata": {
        "id": "__nNCcI5Xo9i"
      },
      "execution_count": null,
      "outputs": []
    }
  ]
}