{
  "nbformat": 4,
  "nbformat_minor": 0,
  "metadata": {
    "colab": {
      "provenance": [],
      "authorship_tag": "ABX9TyPMQpS8kK86aRxYSb0nZzZi",
      "include_colab_link": true
    },
    "kernelspec": {
      "name": "python3",
      "display_name": "Python 3"
    },
    "language_info": {
      "name": "python"
    }
  },
  "cells": [
    {
      "cell_type": "markdown",
      "metadata": {
        "id": "view-in-github",
        "colab_type": "text"
      },
      "source": [
        "<a href=\"https://colab.research.google.com/github/Penelopeeirini/Master-Thesis/blob/main/Deeptrack2.ipynb\" target=\"_parent\"><img src=\"https://colab.research.google.com/assets/colab-badge.svg\" alt=\"Open In Colab\"/></a>"
      ]
    },
    {
      "cell_type": "code",
      "execution_count": null,
      "metadata": {
        "id": "WrsR2Di7IMXn"
      },
      "outputs": [],
      "source": [
        "!pip install deeptrack\n",
        "import deeptrack as dt\n",
        "import numpy as np"
      ]
    },
    {
      "cell_type": "code",
      "source": [
        "import matplotlib.pyplot as plt"
      ],
      "metadata": {
        "id": "Rl7iixLBK8Ww"
      },
      "execution_count": 4,
      "outputs": []
    },
    {
      "cell_type": "code",
      "source": [
        "IMAGE_SIZE=51\n",
        "particle = dt.PointParticle(\n",
        "position=lambda:np.random.uniform(\n",
        "IMAGE_SIZE / 2 - 5,\n",
        "IMAGE_SIZE / 2 + 5,\n",
        "size=2,\n",
        "),\n",
        ")"
      ],
      "metadata": {
        "id": "R6DP78pjLR4A"
      },
      "execution_count": 6,
      "outputs": []
    },
    {
      "cell_type": "code",
      "source": [
        "optics = dt.Fluorescence(\n",
        "output_region=(0, 0, IMAGE_SIZE, IMAGE_SIZE),)"
      ],
      "metadata": {
        "id": "YJefCZPJIVNI"
      },
      "execution_count": 8,
      "outputs": []
    },
    {
      "cell_type": "markdown",
      "source": [
        "TRAIN EASIER THE NEURAL NETWORK"
      ],
      "metadata": {
        "id": "JA3zNHHvOkk6"
      }
    },
    {
      "cell_type": "code",
      "source": [
        "normalization = dt.NormalizeMinMax(0, 1)"
      ],
      "metadata": {
        "id": "8J_DXpQ0N652"
      },
      "execution_count": 9,
      "outputs": []
    },
    {
      "cell_type": "markdown",
      "source": [
        "SIMULATION PIPELINE"
      ],
      "metadata": {
        "id": "sieZxECtOS_y"
      }
    },
    {
      "cell_type": "code",
      "source": [
        "data_simulation = optics(particle) >> normalization\n",
        "data = np.zeros((1000, IMAGE_SIZE, IMAGE_SIZE, 1))\n",
        "ground_truth = np.zeros((1000, 2))"
      ],
      "metadata": {
        "id": "HbbclnyCORWG"
      },
      "execution_count": null,
      "outputs": []
    },
    {
      "cell_type": "code",
      "source": [],
      "metadata": {
        "id": "KT949PlqOZqL"
      },
      "execution_count": null,
      "outputs": []
    }
  ]
}