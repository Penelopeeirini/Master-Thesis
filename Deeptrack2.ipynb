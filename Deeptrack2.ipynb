{
  "nbformat": 4,
  "nbformat_minor": 0,
  "metadata": {
    "colab": {
      "provenance": [],
      "authorship_tag": "ABX9TyM7S5QkjKQ/NDYJc2XTPEpS",
      "include_colab_link": true
    },
    "kernelspec": {
      "name": "python3",
      "display_name": "Python 3"
    },
    "language_info": {
      "name": "python"
    }
  },
  "cells": [
    {
      "cell_type": "markdown",
      "metadata": {
        "id": "view-in-github",
        "colab_type": "text"
      },
      "source": [
        "<a href=\"https://colab.research.google.com/github/Penelopeeirini/Master-Thesis/blob/main/Deeptrack2.ipynb\" target=\"_parent\"><img src=\"https://colab.research.google.com/assets/colab-badge.svg\" alt=\"Open In Colab\"/></a>"
      ]
    },
    {
      "cell_type": "code",
      "execution_count": 7,
      "metadata": {
        "colab": {
          "base_uri": "https://localhost:8080/"
        },
        "id": "WrsR2Di7IMXn",
        "outputId": "8a0c43fe-dba6-4fbc-832f-c873479162a9"
      },
      "outputs": [
        {
          "output_type": "stream",
          "name": "stdout",
          "text": [
            "Looking in indexes: https://pypi.org/simple, https://us-python.pkg.dev/colab-wheels/public/simple/\n",
            "Collecting deeptrack\n",
            "  Downloading deeptrack-1.5.6-py3-none-any.whl (190 kB)\n",
            "\u001b[2K     \u001b[90m━━━━━━━━━━━━━━━━━━━━━━━━━━━━━━━━━━━━━━━\u001b[0m \u001b[32m190.2/190.2 kB\u001b[0m \u001b[31m7.0 MB/s\u001b[0m eta \u001b[36m0:00:00\u001b[0m\n",
            "\u001b[?25hRequirement already satisfied: tensorflow in /usr/local/lib/python3.10/dist-packages (from deeptrack) (2.12.0)\n",
            "Requirement already satisfied: numpy in /usr/local/lib/python3.10/dist-packages (from deeptrack) (1.22.4)\n",
            "Requirement already satisfied: matplotlib in /usr/local/lib/python3.10/dist-packages (from deeptrack) (3.7.1)\n",
            "Requirement already satisfied: scipy in /usr/local/lib/python3.10/dist-packages (from deeptrack) (1.10.1)\n",
            "Collecting numpydoc (from deeptrack)\n",
            "  Downloading numpydoc-1.5.0-py3-none-any.whl (52 kB)\n",
            "\u001b[2K     \u001b[90m━━━━━━━━━━━━━━━━━━━━━━━━━━━━━━━━━━━━━━━━\u001b[0m \u001b[32m52.4/52.4 kB\u001b[0m \u001b[31m6.7 MB/s\u001b[0m eta \u001b[36m0:00:00\u001b[0m\n",
            "\u001b[?25hRequirement already satisfied: scikit-image in /usr/local/lib/python3.10/dist-packages (from deeptrack) (0.19.3)\n",
            "Requirement already satisfied: tensorflow-probability in /usr/local/lib/python3.10/dist-packages (from deeptrack) (0.19.0)\n",
            "Requirement already satisfied: tensorflow-datasets in /usr/local/lib/python3.10/dist-packages (from deeptrack) (4.9.2)\n",
            "Requirement already satisfied: more-itertools in /usr/local/lib/python3.10/dist-packages (from deeptrack) (9.1.0)\n",
            "Collecting pint<0.20 (from deeptrack)\n",
            "  Downloading Pint-0.19.2.tar.gz (292 kB)\n",
            "\u001b[2K     \u001b[90m━━━━━━━━━━━━━━━━━━━━━━━━━━━━━━━━━━━━━━\u001b[0m \u001b[32m292.0/292.0 kB\u001b[0m \u001b[31m22.4 MB/s\u001b[0m eta \u001b[36m0:00:00\u001b[0m\n",
            "\u001b[?25h  Installing build dependencies ... \u001b[?25l\u001b[?25hdone\n",
            "  Getting requirements to build wheel ... \u001b[?25l\u001b[?25hdone\n",
            "  Preparing metadata (pyproject.toml) ... \u001b[?25l\u001b[?25hdone\n",
            "Requirement already satisfied: pandas in /usr/local/lib/python3.10/dist-packages (from deeptrack) (1.5.3)\n",
            "Requirement already satisfied: tqdm in /usr/local/lib/python3.10/dist-packages (from deeptrack) (4.65.0)\n",
            "Collecting tensorflow-addons (from deeptrack)\n",
            "  Downloading tensorflow_addons-0.20.0-cp310-cp310-manylinux_2_17_x86_64.manylinux2014_x86_64.whl (591 kB)\n",
            "\u001b[2K     \u001b[90m━━━━━━━━━━━━━━━━━━━━━━━━━━━━━━━━━━━━━━\u001b[0m \u001b[32m591.0/591.0 kB\u001b[0m \u001b[31m51.4 MB/s\u001b[0m eta \u001b[36m0:00:00\u001b[0m\n",
            "\u001b[?25hRequirement already satisfied: contourpy>=1.0.1 in /usr/local/lib/python3.10/dist-packages (from matplotlib->deeptrack) (1.0.7)\n",
            "Requirement already satisfied: cycler>=0.10 in /usr/local/lib/python3.10/dist-packages (from matplotlib->deeptrack) (0.11.0)\n",
            "Requirement already satisfied: fonttools>=4.22.0 in /usr/local/lib/python3.10/dist-packages (from matplotlib->deeptrack) (4.39.3)\n",
            "Requirement already satisfied: kiwisolver>=1.0.1 in /usr/local/lib/python3.10/dist-packages (from matplotlib->deeptrack) (1.4.4)\n",
            "Requirement already satisfied: packaging>=20.0 in /usr/local/lib/python3.10/dist-packages (from matplotlib->deeptrack) (23.1)\n",
            "Requirement already satisfied: pillow>=6.2.0 in /usr/local/lib/python3.10/dist-packages (from matplotlib->deeptrack) (8.4.0)\n",
            "Requirement already satisfied: pyparsing>=2.3.1 in /usr/local/lib/python3.10/dist-packages (from matplotlib->deeptrack) (3.0.9)\n",
            "Requirement already satisfied: python-dateutil>=2.7 in /usr/local/lib/python3.10/dist-packages (from matplotlib->deeptrack) (2.8.2)\n",
            "Collecting sphinx>=4.2 (from numpydoc->deeptrack)\n",
            "  Downloading sphinx-7.0.1-py3-none-any.whl (3.0 MB)\n",
            "\u001b[2K     \u001b[90m━━━━━━━━━━━━━━━━━━━━━━━━━━━━━━━━━━━━━━━━\u001b[0m \u001b[32m3.0/3.0 MB\u001b[0m \u001b[31m91.4 MB/s\u001b[0m eta \u001b[36m0:00:00\u001b[0m\n",
            "\u001b[?25hRequirement already satisfied: Jinja2>=2.10 in /usr/local/lib/python3.10/dist-packages (from numpydoc->deeptrack) (3.1.2)\n",
            "Requirement already satisfied: pytz>=2020.1 in /usr/local/lib/python3.10/dist-packages (from pandas->deeptrack) (2022.7.1)\n",
            "Requirement already satisfied: networkx>=2.2 in /usr/local/lib/python3.10/dist-packages (from scikit-image->deeptrack) (3.1)\n",
            "Requirement already satisfied: imageio>=2.4.1 in /usr/local/lib/python3.10/dist-packages (from scikit-image->deeptrack) (2.25.1)\n",
            "Requirement already satisfied: tifffile>=2019.7.26 in /usr/local/lib/python3.10/dist-packages (from scikit-image->deeptrack) (2023.4.12)\n",
            "Requirement already satisfied: PyWavelets>=1.1.1 in /usr/local/lib/python3.10/dist-packages (from scikit-image->deeptrack) (1.4.1)\n",
            "Requirement already satisfied: absl-py>=1.0.0 in /usr/local/lib/python3.10/dist-packages (from tensorflow->deeptrack) (1.4.0)\n",
            "Requirement already satisfied: astunparse>=1.6.0 in /usr/local/lib/python3.10/dist-packages (from tensorflow->deeptrack) (1.6.3)\n",
            "Requirement already satisfied: flatbuffers>=2.0 in /usr/local/lib/python3.10/dist-packages (from tensorflow->deeptrack) (23.3.3)\n",
            "Requirement already satisfied: gast<=0.4.0,>=0.2.1 in /usr/local/lib/python3.10/dist-packages (from tensorflow->deeptrack) (0.4.0)\n",
            "Requirement already satisfied: google-pasta>=0.1.1 in /usr/local/lib/python3.10/dist-packages (from tensorflow->deeptrack) (0.2.0)\n",
            "Requirement already satisfied: grpcio<2.0,>=1.24.3 in /usr/local/lib/python3.10/dist-packages (from tensorflow->deeptrack) (1.54.0)\n",
            "Requirement already satisfied: h5py>=2.9.0 in /usr/local/lib/python3.10/dist-packages (from tensorflow->deeptrack) (3.8.0)\n",
            "Requirement already satisfied: jax>=0.3.15 in /usr/local/lib/python3.10/dist-packages (from tensorflow->deeptrack) (0.4.8)\n",
            "Requirement already satisfied: keras<2.13,>=2.12.0 in /usr/local/lib/python3.10/dist-packages (from tensorflow->deeptrack) (2.12.0)\n",
            "Requirement already satisfied: libclang>=13.0.0 in /usr/local/lib/python3.10/dist-packages (from tensorflow->deeptrack) (16.0.0)\n",
            "Requirement already satisfied: opt-einsum>=2.3.2 in /usr/local/lib/python3.10/dist-packages (from tensorflow->deeptrack) (3.3.0)\n",
            "Requirement already satisfied: protobuf!=4.21.0,!=4.21.1,!=4.21.2,!=4.21.3,!=4.21.4,!=4.21.5,<5.0.0dev,>=3.20.3 in /usr/local/lib/python3.10/dist-packages (from tensorflow->deeptrack) (3.20.3)\n",
            "Requirement already satisfied: setuptools in /usr/local/lib/python3.10/dist-packages (from tensorflow->deeptrack) (67.7.2)\n",
            "Requirement already satisfied: six>=1.12.0 in /usr/local/lib/python3.10/dist-packages (from tensorflow->deeptrack) (1.16.0)\n",
            "Requirement already satisfied: tensorboard<2.13,>=2.12 in /usr/local/lib/python3.10/dist-packages (from tensorflow->deeptrack) (2.12.2)\n",
            "Requirement already satisfied: tensorflow-estimator<2.13,>=2.12.0 in /usr/local/lib/python3.10/dist-packages (from tensorflow->deeptrack) (2.12.0)\n",
            "Requirement already satisfied: termcolor>=1.1.0 in /usr/local/lib/python3.10/dist-packages (from tensorflow->deeptrack) (2.3.0)\n",
            "Requirement already satisfied: typing-extensions>=3.6.6 in /usr/local/lib/python3.10/dist-packages (from tensorflow->deeptrack) (4.5.0)\n",
            "Requirement already satisfied: wrapt<1.15,>=1.11.0 in /usr/local/lib/python3.10/dist-packages (from tensorflow->deeptrack) (1.14.1)\n",
            "Requirement already satisfied: tensorflow-io-gcs-filesystem>=0.23.1 in /usr/local/lib/python3.10/dist-packages (from tensorflow->deeptrack) (0.32.0)\n",
            "Collecting typeguard<3.0.0,>=2.7 (from tensorflow-addons->deeptrack)\n",
            "  Downloading typeguard-2.13.3-py3-none-any.whl (17 kB)\n",
            "Requirement already satisfied: array-record in /usr/local/lib/python3.10/dist-packages (from tensorflow-datasets->deeptrack) (0.2.0)\n",
            "Requirement already satisfied: click in /usr/local/lib/python3.10/dist-packages (from tensorflow-datasets->deeptrack) (8.1.3)\n",
            "Requirement already satisfied: dm-tree in /usr/local/lib/python3.10/dist-packages (from tensorflow-datasets->deeptrack) (0.1.8)\n",
            "Requirement already satisfied: etils[enp,epath]>=0.9.0 in /usr/local/lib/python3.10/dist-packages (from tensorflow-datasets->deeptrack) (1.2.0)\n",
            "Requirement already satisfied: promise in /usr/local/lib/python3.10/dist-packages (from tensorflow-datasets->deeptrack) (2.3)\n",
            "Requirement already satisfied: psutil in /usr/local/lib/python3.10/dist-packages (from tensorflow-datasets->deeptrack) (5.9.5)\n",
            "Requirement already satisfied: requests>=2.19.0 in /usr/local/lib/python3.10/dist-packages (from tensorflow-datasets->deeptrack) (2.27.1)\n",
            "Requirement already satisfied: tensorflow-metadata in /usr/local/lib/python3.10/dist-packages (from tensorflow-datasets->deeptrack) (1.13.1)\n",
            "Requirement already satisfied: toml in /usr/local/lib/python3.10/dist-packages (from tensorflow-datasets->deeptrack) (0.10.2)\n",
            "Requirement already satisfied: decorator in /usr/local/lib/python3.10/dist-packages (from tensorflow-probability->deeptrack) (4.4.2)\n",
            "Requirement already satisfied: cloudpickle>=1.3 in /usr/local/lib/python3.10/dist-packages (from tensorflow-probability->deeptrack) (2.2.1)\n",
            "Requirement already satisfied: wheel<1.0,>=0.23.0 in /usr/local/lib/python3.10/dist-packages (from astunparse>=1.6.0->tensorflow->deeptrack) (0.40.0)\n",
            "Requirement already satisfied: importlib_resources in /usr/local/lib/python3.10/dist-packages (from etils[enp,epath]>=0.9.0->tensorflow-datasets->deeptrack) (5.12.0)\n",
            "Requirement already satisfied: zipp in /usr/local/lib/python3.10/dist-packages (from etils[enp,epath]>=0.9.0->tensorflow-datasets->deeptrack) (3.15.0)\n",
            "Requirement already satisfied: ml-dtypes>=0.0.3 in /usr/local/lib/python3.10/dist-packages (from jax>=0.3.15->tensorflow->deeptrack) (0.1.0)\n",
            "Requirement already satisfied: MarkupSafe>=2.0 in /usr/local/lib/python3.10/dist-packages (from Jinja2>=2.10->numpydoc->deeptrack) (2.1.2)\n",
            "Requirement already satisfied: urllib3<1.27,>=1.21.1 in /usr/local/lib/python3.10/dist-packages (from requests>=2.19.0->tensorflow-datasets->deeptrack) (1.26.15)\n",
            "Requirement already satisfied: certifi>=2017.4.17 in /usr/local/lib/python3.10/dist-packages (from requests>=2.19.0->tensorflow-datasets->deeptrack) (2022.12.7)\n",
            "Requirement already satisfied: charset-normalizer~=2.0.0 in /usr/local/lib/python3.10/dist-packages (from requests>=2.19.0->tensorflow-datasets->deeptrack) (2.0.12)\n",
            "Requirement already satisfied: idna<4,>=2.5 in /usr/local/lib/python3.10/dist-packages (from requests>=2.19.0->tensorflow-datasets->deeptrack) (3.4)\n",
            "Requirement already satisfied: sphinxcontrib-applehelp in /usr/local/lib/python3.10/dist-packages (from sphinx>=4.2->numpydoc->deeptrack) (1.0.4)\n",
            "Requirement already satisfied: sphinxcontrib-devhelp in /usr/local/lib/python3.10/dist-packages (from sphinx>=4.2->numpydoc->deeptrack) (1.0.2)\n",
            "Requirement already satisfied: sphinxcontrib-jsmath in /usr/local/lib/python3.10/dist-packages (from sphinx>=4.2->numpydoc->deeptrack) (1.0.1)\n",
            "Requirement already satisfied: sphinxcontrib-htmlhelp>=2.0.0 in /usr/local/lib/python3.10/dist-packages (from sphinx>=4.2->numpydoc->deeptrack) (2.0.1)\n",
            "Requirement already satisfied: sphinxcontrib-serializinghtml>=1.1.5 in /usr/local/lib/python3.10/dist-packages (from sphinx>=4.2->numpydoc->deeptrack) (1.1.5)\n",
            "Requirement already satisfied: sphinxcontrib-qthelp in /usr/local/lib/python3.10/dist-packages (from sphinx>=4.2->numpydoc->deeptrack) (1.0.3)\n",
            "Requirement already satisfied: Pygments>=2.13 in /usr/local/lib/python3.10/dist-packages (from sphinx>=4.2->numpydoc->deeptrack) (2.14.0)\n",
            "Collecting docutils<0.21,>=0.18.1 (from sphinx>=4.2->numpydoc->deeptrack)\n",
            "  Downloading docutils-0.20-py3-none-any.whl (577 kB)\n",
            "\u001b[2K     \u001b[90m━━━━━━━━━━━━━━━━━━━━━━━━━━━━━━━━━━━━━━\u001b[0m \u001b[32m577.9/577.9 kB\u001b[0m \u001b[31m38.8 MB/s\u001b[0m eta \u001b[36m0:00:00\u001b[0m\n",
            "\u001b[?25hRequirement already satisfied: snowballstemmer>=2.0 in /usr/local/lib/python3.10/dist-packages (from sphinx>=4.2->numpydoc->deeptrack) (2.2.0)\n",
            "Requirement already satisfied: babel>=2.9 in /usr/local/lib/python3.10/dist-packages (from sphinx>=4.2->numpydoc->deeptrack) (2.12.1)\n",
            "Requirement already satisfied: alabaster<0.8,>=0.7 in /usr/local/lib/python3.10/dist-packages (from sphinx>=4.2->numpydoc->deeptrack) (0.7.13)\n",
            "Requirement already satisfied: imagesize>=1.3 in /usr/local/lib/python3.10/dist-packages (from sphinx>=4.2->numpydoc->deeptrack) (1.4.1)\n",
            "Requirement already satisfied: google-auth<3,>=1.6.3 in /usr/local/lib/python3.10/dist-packages (from tensorboard<2.13,>=2.12->tensorflow->deeptrack) (2.17.3)\n",
            "Requirement already satisfied: google-auth-oauthlib<1.1,>=0.5 in /usr/local/lib/python3.10/dist-packages (from tensorboard<2.13,>=2.12->tensorflow->deeptrack) (1.0.0)\n",
            "Requirement already satisfied: markdown>=2.6.8 in /usr/local/lib/python3.10/dist-packages (from tensorboard<2.13,>=2.12->tensorflow->deeptrack) (3.4.3)\n",
            "Requirement already satisfied: tensorboard-data-server<0.8.0,>=0.7.0 in /usr/local/lib/python3.10/dist-packages (from tensorboard<2.13,>=2.12->tensorflow->deeptrack) (0.7.0)\n",
            "Requirement already satisfied: tensorboard-plugin-wit>=1.6.0 in /usr/local/lib/python3.10/dist-packages (from tensorboard<2.13,>=2.12->tensorflow->deeptrack) (1.8.1)\n",
            "Requirement already satisfied: werkzeug>=1.0.1 in /usr/local/lib/python3.10/dist-packages (from tensorboard<2.13,>=2.12->tensorflow->deeptrack) (2.3.0)\n",
            "Requirement already satisfied: googleapis-common-protos<2,>=1.52.0 in /usr/local/lib/python3.10/dist-packages (from tensorflow-metadata->tensorflow-datasets->deeptrack) (1.59.0)\n",
            "Requirement already satisfied: cachetools<6.0,>=2.0.0 in /usr/local/lib/python3.10/dist-packages (from google-auth<3,>=1.6.3->tensorboard<2.13,>=2.12->tensorflow->deeptrack) (5.3.0)\n",
            "Requirement already satisfied: pyasn1-modules>=0.2.1 in /usr/local/lib/python3.10/dist-packages (from google-auth<3,>=1.6.3->tensorboard<2.13,>=2.12->tensorflow->deeptrack) (0.3.0)\n",
            "Requirement already satisfied: rsa<5,>=3.1.4 in /usr/local/lib/python3.10/dist-packages (from google-auth<3,>=1.6.3->tensorboard<2.13,>=2.12->tensorflow->deeptrack) (4.9)\n",
            "Requirement already satisfied: requests-oauthlib>=0.7.0 in /usr/local/lib/python3.10/dist-packages (from google-auth-oauthlib<1.1,>=0.5->tensorboard<2.13,>=2.12->tensorflow->deeptrack) (1.3.1)\n",
            "Requirement already satisfied: pyasn1<0.6.0,>=0.4.6 in /usr/local/lib/python3.10/dist-packages (from pyasn1-modules>=0.2.1->google-auth<3,>=1.6.3->tensorboard<2.13,>=2.12->tensorflow->deeptrack) (0.5.0)\n",
            "Requirement already satisfied: oauthlib>=3.0.0 in /usr/local/lib/python3.10/dist-packages (from requests-oauthlib>=0.7.0->google-auth-oauthlib<1.1,>=0.5->tensorboard<2.13,>=2.12->tensorflow->deeptrack) (3.2.2)\n",
            "Building wheels for collected packages: pint\n",
            "  Building wheel for pint (pyproject.toml) ... \u001b[?25l\u001b[?25hdone\n",
            "  Created wheel for pint: filename=Pint-0.19.2-py3-none-any.whl size=231001 sha256=e799f704e18abce5a6d162721e9d48d0d27d218290133137f9c33ef9b2c2a5c8\n",
            "  Stored in directory: /root/.cache/pip/wheels/eb/00/87/c216aa83b91597845d9fec6fcd9dbe31c945a25d968dd4765a\n",
            "Successfully built pint\n",
            "Installing collected packages: typeguard, pint, docutils, tensorflow-addons, sphinx, numpydoc, deeptrack\n",
            "  Attempting uninstall: docutils\n",
            "    Found existing installation: docutils 0.16\n",
            "    Uninstalling docutils-0.16:\n",
            "      Successfully uninstalled docutils-0.16\n",
            "  Attempting uninstall: sphinx\n",
            "    Found existing installation: Sphinx 3.5.4\n",
            "    Uninstalling Sphinx-3.5.4:\n",
            "      Successfully uninstalled Sphinx-3.5.4\n",
            "Successfully installed deeptrack-1.5.6 docutils-0.20 numpydoc-1.5.0 pint-0.19.2 sphinx-7.0.1 tensorflow-addons-0.20.0 typeguard-2.13.3\n"
          ]
        },
        {
          "output_type": "stream",
          "name": "stderr",
          "text": [
            "/usr/local/lib/python3.10/dist-packages/deeptrack/backend/_config.py:11: UserWarning: cupy not installed. GPU-accelerated simulations will not be possible\n",
            "  warnings.warn(\n",
            "/usr/local/lib/python3.10/dist-packages/deeptrack/backend/_config.py:25: UserWarning: cupy not installed, CPU acceleration not enabled\n",
            "  warnings.warn(\"cupy not installed, CPU acceleration not enabled\")\n",
            "/usr/local/lib/python3.10/dist-packages/tensorflow_addons/utils/tfa_eol_msg.py:23: UserWarning: \n",
            "\n",
            "TensorFlow Addons (TFA) has ended development and introduction of new features.\n",
            "TFA has entered a minimal maintenance and release mode until a planned end of life in May 2024.\n",
            "Please modify downstream libraries to take dependencies from other repositories in our TensorFlow community (e.g. Keras, Keras-CV, and Keras-NLP). \n",
            "\n",
            "For more information see: https://github.com/tensorflow/addons/issues/2807 \n",
            "\n",
            "  warnings.warn(\n"
          ]
        }
      ],
      "source": [
        "!pip install deeptrack\n",
        "import deeptrack as dt\n",
        "import numpy as np"
      ]
    },
    {
      "cell_type": "code",
      "source": [
        "import matplotlib.pyplot as plt"
      ],
      "metadata": {
        "id": "Rl7iixLBK8Ww"
      },
      "execution_count": 8,
      "outputs": []
    },
    {
      "cell_type": "code",
      "source": [
        "IMAGE_SIZE=51\n",
        "particle = dt.PointParticle(\n",
        "position=lambda:np.random.uniform(\n",
        "IMAGE_SIZE / 2 - 5,\n",
        "IMAGE_SIZE / 2 + 5,\n",
        "size=2,\n",
        "),\n",
        ")"
      ],
      "metadata": {
        "id": "R6DP78pjLR4A"
      },
      "execution_count": 9,
      "outputs": []
    },
    {
      "cell_type": "code",
      "source": [
        "optics = dt.Fluorescence(\n",
        "output_region=(0, 0, IMAGE_SIZE, IMAGE_SIZE),)"
      ],
      "metadata": {
        "id": "YJefCZPJIVNI"
      },
      "execution_count": 10,
      "outputs": []
    },
    {
      "cell_type": "markdown",
      "source": [
        "TRAIN EASIER THE NEURAL NETWORK"
      ],
      "metadata": {
        "id": "JA3zNHHvOkk6"
      }
    },
    {
      "cell_type": "code",
      "source": [
        "normalization = dt.NormalizeMinMax(0, 1)"
      ],
      "metadata": {
        "id": "8J_DXpQ0N652"
      },
      "execution_count": 11,
      "outputs": []
    },
    {
      "cell_type": "markdown",
      "source": [
        "SIMULATION PIPELINE"
      ],
      "metadata": {
        "id": "sieZxECtOS_y"
      }
    },
    {
      "cell_type": "code",
      "source": [
        "data_simulation = optics(particle) >> normalization\n",
        "data = np.zeros((1000, IMAGE_SIZE, IMAGE_SIZE, 1))\n",
        "ground_truth = np.zeros((1000, 2))"
      ],
      "metadata": {
        "id": "HbbclnyCORWG"
      },
      "execution_count": 12,
      "outputs": []
    },
    {
      "cell_type": "code",
      "source": [
        "for i in range(1000):\n",
        "  data_simulation.update()\n",
        "  data[i] = data_simulation()\n",
        "  ground_truth[i] = particle.position()\n"
      ],
      "metadata": {
        "id": "KT949PlqOZqL"
      },
      "execution_count": 13,
      "outputs": []
    },
    {
      "cell_type": "markdown",
      "source": [
        "PARTICLE PLOTS\n"
      ],
      "metadata": {
        "id": "DF6C_UJpXfXe"
      }
    },
    {
      "cell_type": "code",
      "source": [
        "plt.figure(figsize=(10, 4))\n",
        "for i in range(10):\n",
        "  plt.subplot(2, 5, i + 1)\n",
        "  plt.imshow(data[i, ..., 0], cmap=\"gray\")\n",
        "  plt.scatter(ground_truth[i, 1], ground_truth[i, 0], c=\"r\")\n",
        "  plt.axis(\"off\")\n",
        "  plt.tight_layout()\n",
        "plt.show()"
      ],
      "metadata": {
        "colab": {
          "base_uri": "https://localhost:8080/",
          "height": 407
        },
        "id": "VfTrjH8GXhwF",
        "outputId": "c4e0a4ef-09fa-41d8-f7d4-46925bd0ade7"
      },
      "execution_count": 14,
      "outputs": [
        {
          "output_type": "display_data",
          "data": {
            "text/plain": [
              "<Figure size 1000x400 with 10 Axes>"
            ],
            "image/png": "[encoded data removed]"
          },
          "metadata": {}
        }
      ]
    },
    {
      "cell_type": "markdown",
      "source": [
        "**Convolutional neural network**. This script defines a\n",
        "convolutional neural network with a dense top that takes an image\n",
        "as input and outputs the position of the object in the image."
      ],
      "metadata": {
        "id": "wzvlJW9bmmz9"
      }
    },
    {
      "cell_type": "code",
      "source": [
        "model = dt.models.Convolutional(\n",
        "input_shape=(IMAGE_SIZE, IMAGE_SIZE, 1),\n",
        "number_of_outputs=2,\n",
        ")"
      ],
      "metadata": {
        "id": "p-q8XUbVX0Jq"
      },
      "execution_count": 15,
      "outputs": []
    },
    {
      "cell_type": "code",
      "source": [
        "import tensorflow.keras.backend as K"
      ],
      "metadata": {
        "id": "__nNCcI5Xo9i"
      },
      "execution_count": 16,
      "outputs": []
    },
    {
      "cell_type": "markdown",
      "source": [
        "**Loss** **function**"
      ],
      "metadata": {
        "id": "4rDE80d8nQeb"
      }
    },
    {
      "cell_type": "code",
      "source": [
        "def geometric_loss(transformation, prediction):\n",
        "  de_transformed = prediction - transformation\n",
        "  distance = K.std(de_transformed, axis=0)\n",
        "  return distance\n",
        "# transformation contains the translation applied to the images\n",
        "# shape: (batch_size, 2)\n",
        "# prediction contains the predicted position of the object in the images\n",
        "# shape: (batch_size, 2)\n",
        "model.compile(loss=geometric_loss, optimizer=\"adam\")"
      ],
      "metadata": {
        "id": "skVVuaRenOAz"
      },
      "execution_count": 17,
      "outputs": []
    },
    {
      "cell_type": "code",
      "source": [
        "def translation_function(translation):\n",
        "  def translate_image(image):\n",
        "    import scipy.ndimage as ndimage\n",
        "    translated_image = ndimage.shift(\n",
        "        image.squeeze(),\n",
        "        translation,\n",
        "        order=1,mode=\"reflect\",\n",
        "    )\n",
        "    return translated_image[..., np.newaxis]\n",
        "  return translate_image\n",
        "translation_transformation = dt.Lambda(\n",
        "    translation_function,\n",
        "    translation=lambda:np.random.uniform(-5, 5, size=2),\n",
        ")\n",
        "def get_batch(data, batch_size=2):\n",
        "  # data contains the anchor image\n",
        "  # shape: (IMAGE_SIZE, IMAGE_SIZE, 1)\n",
        "  output_data_buffer = np.zeros((batch_size, IMAGE_SIZE, IMAGE_SIZE, 1))\n",
        "  output_label_buffer = np.zeros((batch_size, 2))\n",
        "  for i in range(batch_size):\n",
        "    translation_transformation.update()\n",
        "    output_data_buffer[i] = translation_transformation(data)\n",
        "    output_label_buffer[i] = translation_transformation.translation()\n",
        "  return output_data_buffer, output_label_buffer"
      ],
      "metadata": {
        "id": "Dsna2rnQn8oz"
      },
      "execution_count": 18,
      "outputs": []
    },
    {
      "cell_type": "code",
      "source": [
        "def train_epoch(images):\n",
        "  # images contains the images to train on\n",
        "  # shape: (N, IMAGE_SIZE, IMAGE_SIZE, 1)\n",
        "  epoch_loss = 0\n",
        "  for idx, anchor_image in enumerate(images):\n",
        "    batch = get_batch(anchor_image)\n",
        "    epoch_loss += model.train_on_batch(batch[0], batch[1])\n",
        "  return epoch_loss / len(images)"
      ],
      "metadata": {
        "id": "6I59vKKXpMkB"
      },
      "execution_count": 19,
      "outputs": []
    },
    {
      "cell_type": "code",
      "source": [
        "training_data_size = 100\n",
        "for epoch in range(20):\n",
        "  print(\"Epoch: \", epoch)\n",
        "  loss = train_epoch(data[:training_data_size])\n",
        "  print(\"\\nLoss: \", loss)"
      ],
      "metadata": {
        "colab": {
          "base_uri": "https://localhost:8080/"
        },
        "id": "FIjwaJpIptbj",
        "outputId": "35a2968e-68f4-4c0d-c4c5-b283a66fba34"
      },
      "execution_count": 20,
      "outputs": [
        {
          "output_type": "stream",
          "name": "stdout",
          "text": [
            "Epoch:  0\n",
            "\n",
            "Loss:  0.9373386308550835\n",
            "Epoch:  1\n",
            "\n",
            "Loss:  0.3591306163743138\n",
            "Epoch:  2\n",
            "\n",
            "Loss:  0.3205562134832144\n",
            "Epoch:  3\n",
            "\n",
            "Loss:  0.2258524166047573\n",
            "Epoch:  4\n",
            "\n",
            "Loss:  0.33416575148701666\n",
            "Epoch:  5\n",
            "\n",
            "Loss:  0.19778350070118905\n",
            "Epoch:  6\n",
            "\n",
            "Loss:  0.24414373457431793\n",
            "Epoch:  7\n",
            "\n",
            "Loss:  0.22214438159251584\n",
            "Epoch:  8\n",
            "\n",
            "Loss:  0.16882580474019052\n",
            "Epoch:  9\n",
            "\n",
            "Loss:  0.18974414587020874\n",
            "Epoch:  10\n",
            "\n",
            "Loss:  0.17870426252484323\n",
            "Epoch:  11\n",
            "\n",
            "Loss:  0.13386480033397674\n",
            "Epoch:  12\n",
            "\n",
            "Loss:  0.1145133751630783\n",
            "Epoch:  13\n",
            "\n",
            "Loss:  0.12960797818377615\n",
            "Epoch:  14\n",
            "\n",
            "Loss:  0.13290423452854155\n",
            "Epoch:  15\n",
            "\n",
            "Loss:  0.14012147277593612\n",
            "Epoch:  16\n",
            "\n",
            "Loss:  0.15433836072683335\n",
            "Epoch:  17\n",
            "\n",
            "Loss:  0.12794606134295464\n",
            "Epoch:  18\n",
            "\n",
            "Loss:  0.12461462914943695\n",
            "Epoch:  19\n",
            "\n",
            "Loss:  0.14478028895216993\n"
          ]
        }
      ]
    },
    {
      "cell_type": "code",
      "source": [
        "predictions = model.predict(data[training_data_size:])\n",
        "gt = ground_truth[training_data_size:] - IMAGE_SIZE / 2\n",
        "plt.figure(figsize=(15, 9))\n",
        "grid = plt.GridSpec(4, 6, wspace=0.2, hspace=0.1)\n",
        "\n",
        "plt.subplot(grid[1:, : 3])\n",
        "plt.scatter(\n",
        "    gt[:, 0],\n",
        "    predictions[:, 0],\n",
        "    alpha=0.5,\n",
        ")\n",
        "plt.axline((-5, -5), (5, 5), color=\"black\")\n",
        "plt.xlabel(\"True\")\n",
        "plt.ylabel(\"Predicted\")\n",
        "plt.axis(\"equal\")\n",
        "\n",
        "plt.subplot(grid[1:, 3:])\n",
        "plt.scatter(\n",
        "    gt[:, 1],\n",
        "    predictions[:, 1],\n",
        "    alpha=0.5,\n",
        ")\n",
        "plt.axline((-5, -5), (5, 5), color=\"black\")\n",
        "plt.xlabel(\"True\")\n",
        "plt.axis(\"equal\")\n",
        "plt.yticks([])\n",
        "\n",
        "for idx, offset in enumerate(np.linspace(-5, 5, 3)):\n",
        "  # Create new data at specific offsets\n",
        "  image_offset_x = data_simulation(position=(IMAGE_SIZE / 2 + offset,\n",
        "                                             IMAGE_SIZE / 2))\n",
        "  image_offset_y = data_simulation(position=(IMAGE_SIZE / 2, IMAGE_SIZE /\n",
        "                                             2 + offset))\n",
        "  predicted_positions = model.predict_on_batch(np.array([image_offset_x,\n",
        "                                                         image_offset_y]))\n",
        "  plt.subplot(grid[0, idx])\n",
        "  plt.imshow(image_offset_x, cmap=\"gray\")\n",
        "  plt.scatter(\n",
        "      IMAGE_SIZE / 2 + predicted_positions[0, 1],\n",
        "      IMAGE_SIZE / 2 + predicted_positions[0, 0],\n",
        "      color=\"g\",\n",
        "      marker=\"x\"\n",
        "  )\n",
        "  plt.axis(\"off\")\n",
        "  plt.subplot(grid[0, 3 + idx])\n",
        "  plt.imshow(image_offset_y, cmap=\"gray\")\n",
        "  plt.scatter(\n",
        "    IMAGE_SIZE / 2 + predicted_positions[1, 1],\n",
        "    IMAGE_SIZE / 2 + predicted_positions[1, 0],\n",
        "    color=\"g\",\n",
        "    marker=\"x\"\n",
        "  )\n",
        "  plt.axis(\"off\")\n",
        "\n",
        "plt.show()\n"
      ],
      "metadata": {
        "colab": {
          "base_uri": "https://localhost:8080/",
          "height": 790
        },
        "id": "WeFaxqlXqXcG",
        "outputId": "b6c2c558-7daf-4997-ec5c-e2794600b21f"
      },
      "execution_count": 21,
      "outputs": [
        {
          "output_type": "stream",
          "name": "stdout",
          "text": [
            "29/29 [==============================] - 1s 30ms/step\n"
          ]
        },
        {
          "output_type": "display_data",
          "data": {
            "text/plain": [
              "<Figure size 1500x900 with 8 Axes>"
            ],
            "image/png": "[encoded data removed]"
          },
          "metadata": {}
        }
      ]
    },
    {
      "cell_type": "markdown",
      "source": [
        "### **LODESTAR**\n",
        "Creating a LodeSTAR network\n"
      ],
      "metadata": {
        "id": "KUKjezJtt03n"
      }
    },
    {
      "cell_type": "code",
      "source": [
        "model = dt.models.LodeSTAR(\n",
        "    input_shape=(IMAGE_SIZE, IMAGE_SIZE, 1),\n",
        ")\n",
        "\n",
        "model.compile(\n",
        "    optimizer=\"adam\",\n",
        "    loss=\"mae\"\n",
        ")"
      ],
      "metadata": {
        "id": "dtNPCQ7sq3Ia"
      },
      "execution_count": 22,
      "outputs": []
    },
    {
      "cell_type": "markdown",
      "source": [
        "Creating a pipeline for LodeSTAR\n",
        "\n",
        "\n"
      ],
      "metadata": {
        "id": "qYTXUuRBvzrw"
      }
    },
    {
      "cell_type": "code",
      "source": [
        "training_data_size = 100\n",
        "random_image = dt.Value(\n",
        "    image_index= lambda: np.random.randint(0, training_data_size),\n",
        "    value=lambda image_index: data[image_index]\n",
        ")"
      ],
      "metadata": {
        "id": "7S4sjA6duA0-"
      },
      "execution_count": 23,
      "outputs": []
    },
    {
      "cell_type": "markdown",
      "source": [
        "Training LodeSTAR"
      ],
      "metadata": {
        "id": "ugrCmaF7v4aB"
      }
    },
    {
      "cell_type": "code",
      "source": [
        "model.fit(\n",
        "    random_image,\n",
        "    epochs=100,\n",
        "    batch_size=8,\n",
        "    steps_per_epoch=100,\n",
        ")"
      ],
      "metadata": {
        "colab": {
          "base_uri": "https://localhost:8080/"
        },
        "id": "RbClzZuPuXW1",
        "outputId": "8fb4f8ff-24f9-4c2a-898c-ed376d0c1c82"
      },
      "execution_count": null,
      "outputs": [
        {
          "output_type": "stream",
          "name": "stdout",
          "text": [
            "Generating 167 / 160 samples before starting training\n",
            "Epoch 1/100\n",
            "100/100 [==============================] - 57s 476ms/step - total_loss: 1.5943 - consistency_loss: 0.8814\n",
            "Epoch 2/100\n",
            "100/100 [==============================] - 59s 591ms/step - total_loss: 0.0911 - consistency_loss: 0.0153\n",
            "Epoch 3/100\n",
            "100/100 [==============================] - 41s 413ms/step - total_loss: 0.0590 - consistency_loss: 0.0092\n",
            "Epoch 4/100\n",
            "100/100 [==============================] - 33s 329ms/step - total_loss: 0.0457 - consistency_loss: 0.0069\n",
            "Epoch 5/100\n",
            "100/100 [==============================] - 61s 611ms/step - total_loss: 0.0521 - consistency_loss: 0.0061\n",
            "Epoch 6/100\n",
            "100/100 [==============================] - 59s 590ms/step - total_loss: 0.0394 - consistency_loss: 0.0064\n",
            "Epoch 7/100\n",
            "100/100 [==============================] - 43s 421ms/step - total_loss: 0.0475 - consistency_loss: 0.0055\n",
            "Epoch 8/100\n",
            "100/100 [==============================] - 61s 607ms/step - total_loss: 0.0460 - consistency_loss: 0.0054\n",
            "Epoch 9/100\n",
            "100/100 [==============================] - 42s 418ms/step - total_loss: 0.0434 - consistency_loss: 0.0057\n",
            "Epoch 10/100\n",
            "100/100 [==============================] - 32s 319ms/step - total_loss: 0.0441 - consistency_loss: 0.0062\n",
            "Epoch 11/100\n",
            "100/100 [==============================] - 59s 590ms/step - total_loss: 0.0393 - consistency_loss: 0.0056\n",
            "Epoch 12/100\n",
            "100/100 [==============================] - 43s 424ms/step - total_loss: 0.0453 - consistency_loss: 0.0062\n",
            "Epoch 13/100\n",
            "100/100 [==============================] - 31s 312ms/step - total_loss: 0.0386 - consistency_loss: 0.0056\n",
            "Epoch 14/100\n",
            "100/100 [==============================] - 57s 571ms/step - total_loss: 0.0373 - consistency_loss: 0.0079\n",
            "Epoch 15/100\n",
            "100/100 [==============================] - 59s 591ms/step - total_loss: 0.0388 - consistency_loss: 0.0055\n",
            "Epoch 16/100\n",
            "100/100 [==============================] - 33s 328ms/step - total_loss: 0.0300 - consistency_loss: 0.0048\n",
            "Epoch 17/100\n",
            "100/100 [==============================] - 59s 591ms/step - total_loss: 0.0351 - consistency_loss: 0.0051\n",
            "Epoch 18/100\n",
            "100/100 [==============================] - 31s 312ms/step - total_loss: 0.0334 - consistency_loss: 0.0058\n",
            "Epoch 19/100\n",
            "100/100 [==============================] - 58s 584ms/step - total_loss: 0.0375 - consistency_loss: 0.0051\n",
            "Epoch 20/100\n",
            "100/100 [==============================] - 32s 317ms/step - total_loss: 0.0376 - consistency_loss: 0.0065\n",
            "Epoch 21/100\n",
            "100/100 [==============================] - 59s 591ms/step - total_loss: 0.0272 - consistency_loss: 0.0050\n",
            "Epoch 22/100\n",
            "100/100 [==============================] - 43s 425ms/step - total_loss: 0.0332 - consistency_loss: 0.0056\n",
            "Epoch 23/100\n",
            "100/100 [==============================] - 60s 595ms/step - total_loss: 0.0368 - consistency_loss: 0.0056\n",
            "Epoch 24/100\n",
            "100/100 [==============================] - 42s 412ms/step - total_loss: 0.0266 - consistency_loss: 0.0047\n",
            "Epoch 25/100\n",
            "100/100 [==============================] - 60s 592ms/step - total_loss: 0.0252 - consistency_loss: 0.0046\n"
          ]
        }
      ]
    },
    {
      "cell_type": "code",
      "source": [
        "predictions = model.predict_and_pool(data[training_data_size:]) -\n",
        "  IMAGE_SIZE /2\n",
        "gt = ground_truth[training_data_size:] - IMAGE_SIZE / 2"
      ],
      "metadata": {
        "id": "-H-y1aaev9KQ"
      },
      "execution_count": null,
      "outputs": []
    }
  ]
}